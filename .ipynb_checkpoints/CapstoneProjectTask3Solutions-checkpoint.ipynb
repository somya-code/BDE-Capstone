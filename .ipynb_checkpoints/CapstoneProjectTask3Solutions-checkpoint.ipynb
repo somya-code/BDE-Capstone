{
 "cells": [
  {
   "cell_type": "code",
   "execution_count": 13,
   "id": "997e1e39",
   "metadata": {},
   "outputs": [],
   "source": [
    "from pyspark.sql import SparkSession\n",
    "spark = SparkSession.builder.appName(\"capstone project\").enableHiveSupport().getOrCreate()"
   ]
  },
  {
   "cell_type": "code",
   "execution_count": 14,
   "id": "183b9ee0",
   "metadata": {},
   "outputs": [],
   "source": [
    "course_details_df=spark.sql(\"select * from somya_fractal.CourseDetails\")"
   ]
  },
  {
   "cell_type": "code",
   "execution_count": 15,
   "id": "72abca73",
   "metadata": {},
   "outputs": [],
   "source": [
    "course_status_df=spark.sql(\"select * from somya_fractal.StudentCourseCompletionStatus\")"
   ]
  },
  {
   "cell_type": "code",
   "execution_count": 16,
   "id": "56a70aac",
   "metadata": {},
   "outputs": [
    {
     "name": "stdout",
     "output_type": "stream",
     "text": [
      "+----------+--------+---------+--------------+-----+-------------+\n",
      "|studentsid|courseid| examdate|attendedstatus|marks|       result|\n",
      "+----------+--------+---------+--------------+-----+-------------+\n",
      "|     S0001|   C0001|17 Feb 19|      Attended|   70|    Qualified|\n",
      "|     S0298|   C0008|24 Feb 19|      Attended|   70|    Qualified|\n",
      "|     S0297|   C0007|23 Feb 19|        Absent|    0|Not Qualified|\n",
      "|     S0296|   C0030|20 Feb 19|      Attended|   70|    Qualified|\n",
      "|     S0291|   C0013| 1 Mar 19|      Attended|   85|    Qualified|\n",
      "|     S0290|   C0017| 5 Mar 19|        Absent|    0|Not Qualified|\n",
      "|     S0289|   C0016| 4 Mar 19|        Absent|    0|Not Qualified|\n",
      "|     S0288|   C0015| 3 Mar 19|        Absent|    0|Not Qualified|\n",
      "|     S0287|   C0014| 2 Mar 19|        Absent|    0|Not Qualified|\n",
      "|     S0286|   C0013| 1 Mar 19|      Attended|   85|    Qualified|\n",
      "|     S0285|   C0012|28 Feb 19|      Attended|   70|    Qualified|\n",
      "|     S0284|   C0011|27 Feb 19|        Absent|    0|Not Qualified|\n",
      "|     S0283|   C0010|26 Feb 19|        Absent|    0|Not Qualified|\n",
      "|     S0281|   C0008|24 Feb 19|      Attended|   70|    Qualified|\n",
      "|     S0280|   C0007|23 Feb 19|        Absent|    0|Not Qualified|\n",
      "|     S0279|   C0006|22 Feb 19|        Absent|    0|Not Qualified|\n",
      "|     S0278|   C0005|21 Feb 19|        Absent|    0|Not Qualified|\n",
      "|     S0276|   C0003|19 Feb 19|      Attended|   70|    Qualified|\n",
      "|     S0275|   C0017| 5 Mar 19|        Absent|    0|Not Qualified|\n",
      "|     S0274|   C0016| 4 Mar 19|        Absent|    0|Not Qualified|\n",
      "+----------+--------+---------+--------------+-----+-------------+\n",
      "only showing top 20 rows\n",
      "\n"
     ]
    }
   ],
   "source": [
    "course_status_df.show()"
   ]
  },
  {
   "cell_type": "code",
   "execution_count": 17,
   "id": "8f6e80b7",
   "metadata": {},
   "outputs": [
    {
     "name": "stdout",
     "output_type": "stream",
     "text": [
      "+--------+--------------------+--------------------+----------+--------------------+\n",
      "|courseid|               title|          competency|complexity|          coursetype|\n",
      "+--------+--------------------+--------------------+----------+--------------------+\n",
      "|   C0001|Certificate in Cl...|           Technical|     Basic|               Cloud|\n",
      "|   C0002|Certificate in Vi...|           Technical|     Basic|               Cloud|\n",
      "|   C0003|\"Diploma in Infor...| Networking and C...|  Security|               Cloud|\n",
      "|   C0004|BE (Hons) in CSE ...|              Domain|  Advanced|               Cloud|\n",
      "|   C0005|BTech in Computer...|              Domain|  Advanced|               Cloud|\n",
      "|   C0006|BTech in Computer...|              Domain|  Advanced|               Cloud|\n",
      "|   C0007|BCA with Microsof...|            Security|  Advanced|               Cloud|\n",
      "|   C0008|BTech in Informat...|           Technical|  Advanced|               Cloud|\n",
      "|   C0009|MCA with speciali...|           Technical|  Advanced|               Cloud|\n",
      "|   C0010|ME in Cloud Compu...|           Technical|     Basic|               Cloud|\n",
      "|   C0011|MTech Computer Sc...|           Technical|     Basic|               Cloud|\n",
      "|   C0012|Bachelor’s in Com...|              Domain|     Basic|Hardware and Netw...|\n",
      "|   C0013|B.Sc in Hardware ...|              Domain|  Advanced|Hardware and Netw...|\n",
      "|   C0014|BTech in IT and N...|              Domain|     Basic|Hardware and Netw...|\n",
      "|   C0015|BS in Hardware an...|              Domain|     Basic|Hardware and Netw...|\n",
      "|   C0016|BSc in Networking...|              Domain|     Basic|Hardware and Netw...|\n",
      "|   C0017|M.Tech in Network...|              Domain|  Advanced|Hardware and Netw...|\n",
      "|   C0018|M.Sc in Hardware ...|              Domain|  Advanced|Hardware and Netw...|\n",
      "|   C0019|MSc in Wireless N...|              Domain|  Advanced|Hardware and Netw...|\n",
      "|   C0020|Diploma in Comput...|              Domain|  Advanced|Hardware and Netw...|\n",
      "+--------+--------------------+--------------------+----------+--------------------+\n",
      "only showing top 20 rows\n",
      "\n"
     ]
    }
   ],
   "source": [
    "course_details_df.show()"
   ]
  },
  {
   "cell_type": "code",
   "execution_count": 18,
   "id": "6e6cbd1e",
   "metadata": {},
   "outputs": [
    {
     "data": {
      "text/html": [
       "<table border='1'>\n",
       "<tr><th>result</th><th>count</th></tr>\n",
       "<tr><td>Not Qualified</td><td>149</td></tr>\n",
       "<tr><td>Qualified</td><td>151</td></tr>\n",
       "</table>\n"
      ],
      "text/plain": [
       "+-------------+-----+\n",
       "|       result|count|\n",
       "+-------------+-----+\n",
       "|Not Qualified|  149|\n",
       "|    Qualified|  151|\n",
       "+-------------+-----+"
      ]
     },
     "execution_count": 18,
     "metadata": {},
     "output_type": "execute_result"
    }
   ],
   "source": [
    "#Find the total number of students per result category\n",
    "course_status_df.groupby(\"result\").count()"
   ]
  },
  {
   "cell_type": "code",
   "execution_count": 19,
   "id": "febd233c",
   "metadata": {},
   "outputs": [
    {
     "data": {
      "text/plain": [
       "149"
      ]
     },
     "execution_count": 19,
     "metadata": {},
     "output_type": "execute_result"
    }
   ],
   "source": [
    "#Find the total number of students absent\n",
    "course_status_df.filter(course_status_df[\"attendedstatus\"] == \"Absent\").count()"
   ]
  },
  {
   "cell_type": "code",
   "execution_count": 20,
   "id": "30b8173a",
   "metadata": {},
   "outputs": [],
   "source": [
    "##Find the maximum, minimum and average marks scored by students"
   ]
  },
  {
   "cell_type": "code",
   "execution_count": 21,
   "id": "d5cc0981",
   "metadata": {},
   "outputs": [
    {
     "name": "stdout",
     "output_type": "stream",
     "text": [
      "+----------+\n",
      "|min(marks)|\n",
      "+----------+\n",
      "|         0|\n",
      "+----------+\n",
      "\n"
     ]
    }
   ],
   "source": [
    "course_status_df.agg({'marks': 'min'}).show()"
   ]
  },
  {
   "cell_type": "code",
   "execution_count": 22,
   "id": "51c348fd",
   "metadata": {},
   "outputs": [
    {
     "name": "stdout",
     "output_type": "stream",
     "text": [
      "+----------+\n",
      "|max(marks)|\n",
      "+----------+\n",
      "|        92|\n",
      "+----------+\n",
      "\n"
     ]
    }
   ],
   "source": [
    "course_status_df.agg({'marks': 'max'}).show()"
   ]
  },
  {
   "cell_type": "code",
   "execution_count": 23,
   "id": "4ed6f603",
   "metadata": {},
   "outputs": [
    {
     "name": "stdout",
     "output_type": "stream",
     "text": [
      "+------------------+\n",
      "|        avg(marks)|\n",
      "+------------------+\n",
      "|40.013333333333335|\n",
      "+------------------+\n",
      "\n"
     ]
    }
   ],
   "source": [
    "course_status_df.agg({'marks': 'avg'}).show()"
   ]
  },
  {
   "cell_type": "code",
   "execution_count": null,
   "id": "54e987b4",
   "metadata": {},
   "outputs": [],
   "source": []
  },
  {
   "cell_type": "code",
   "execution_count": null,
   "id": "9a96987a",
   "metadata": {},
   "outputs": [],
   "source": []
  },
  {
   "cell_type": "code",
   "execution_count": null,
   "id": "28c65244",
   "metadata": {},
   "outputs": [],
   "source": []
  },
  {
   "cell_type": "code",
   "execution_count": null,
   "id": "8ce3db87",
   "metadata": {},
   "outputs": [],
   "source": []
  },
  {
   "cell_type": "code",
   "execution_count": null,
   "id": "0420b3d9",
   "metadata": {},
   "outputs": [],
   "source": []
  },
  {
   "cell_type": "code",
   "execution_count": null,
   "id": "795842fe",
   "metadata": {},
   "outputs": [],
   "source": []
  },
  {
   "cell_type": "code",
   "execution_count": null,
   "id": "a783571a",
   "metadata": {},
   "outputs": [],
   "source": []
  },
  {
   "cell_type": "code",
   "execution_count": null,
   "id": "b73c1426",
   "metadata": {},
   "outputs": [],
   "source": []
  },
  {
   "cell_type": "code",
   "execution_count": null,
   "id": "32e8c609",
   "metadata": {},
   "outputs": [],
   "source": []
  },
  {
   "cell_type": "code",
   "execution_count": null,
   "id": "138da8c1",
   "metadata": {},
   "outputs": [],
   "source": []
  },
  {
   "cell_type": "code",
   "execution_count": null,
   "id": "55f27e99",
   "metadata": {},
   "outputs": [],
   "source": []
  },
  {
   "cell_type": "code",
   "execution_count": null,
   "id": "0f39d88c",
   "metadata": {},
   "outputs": [],
   "source": []
  },
  {
   "cell_type": "code",
   "execution_count": null,
   "id": "fde5ed72",
   "metadata": {},
   "outputs": [],
   "source": []
  },
  {
   "cell_type": "code",
   "execution_count": null,
   "id": "68c022b1",
   "metadata": {},
   "outputs": [],
   "source": []
  },
  {
   "cell_type": "code",
   "execution_count": null,
   "id": "0c7dbef5",
   "metadata": {},
   "outputs": [],
   "source": []
  },
  {
   "cell_type": "code",
   "execution_count": null,
   "id": "01058f84",
   "metadata": {},
   "outputs": [],
   "source": []
  }
 ],
 "metadata": {
  "kernelspec": {
   "display_name": "Pyspark 3",
   "language": "python",
   "name": "pyspark3"
  },
  "language_info": {
   "codemirror_mode": {
    "name": "ipython",
    "version": 3
   },
   "file_extension": ".py",
   "mimetype": "text/x-python",
   "name": "python",
   "nbconvert_exporter": "python",
   "pygments_lexer": "ipython3",
   "version": "3.6.12"
  }
 },
 "nbformat": 4,
 "nbformat_minor": 5
}
